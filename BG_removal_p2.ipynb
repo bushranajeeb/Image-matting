{
  "cells": [
    {
      "cell_type": "markdown",
      "metadata": {
        "id": "view-in-github",
        "colab_type": "text"
      },
      "source": [
        "<a href=\"https://colab.research.google.com/github/bushranajeeb/Image-matting/blob/main/BG_removal_p2.ipynb\" target=\"_parent\"><img src=\"https://colab.research.google.com/assets/colab-badge.svg\" alt=\"Open In Colab\"/></a>"
      ]
    },
    {
      "cell_type": "code",
      "execution_count": null,
      "metadata": {
        "colab": {
          "base_uri": "https://localhost:8080/"
        },
        "id": "p_8J0auwHwKx",
        "outputId": "c5c22553-0445-4d69-918a-6035c938d7a1"
      },
      "outputs": [
        {
          "name": "stdout",
          "output_type": "stream",
          "text": [
            "Mounted at /content/drive\n"
          ]
        }
      ],
      "source": [
        "from google.colab import drive\n",
        "drive.mount('/content/drive')"
      ]
    },
    {
      "cell_type": "code",
      "execution_count": null,
      "metadata": {
        "id": "WUFikbNtH3Va"
      },
      "outputs": [],
      "source": [
        "from torchvision import models\n",
        "from PIL import Image\n",
        "import matplotlib.pyplot as plt\n",
        "import torch\n",
        "import numpy as np\n",
        "import cv2\n",
        "# Apply the transformations needed\n",
        "import torchvision.transforms as T\n",
        "import os\n",
        "from google.colab.patches import cv2_imshow\n",
        "\n",
        "#dst = \"/content/drive/MyDrive/output_frames\"\n",
        "dst = \"/content/output\"\n",
        "# Define the helper function\n",
        "def decode_segmap(image, source, bgimg, nc=21):\n",
        "  \n",
        "  label_colors = np.array([(0, 0, 0),  # 0=background\n",
        "               # 1=aeroplane, 2=bicycle, 3=bird, 4=boat, 5=bottle\n",
        "               (128, 0, 0), (0, 128, 0), (128, 128, 0), (0, 0, 128), (128, 0, 128),\n",
        "               # 6=bus, 7=car, 8=cat, 9=chair, 10=cow\n",
        "               (0, 128, 128), (128, 128, 128), (64, 0, 0), (192, 0, 0), (64, 128, 0),\n",
        "               # 11=dining table, 12=dog, 13=horse, 14=motorbike, 15=person\n",
        "               (192, 128, 0), (64, 0, 128), (192, 0, 128), (64, 128, 128), (192, 128, 128),\n",
        "               # 16=potted plant, 17=sheep, 18=sofa, 19=train, 20=tv/monitor\n",
        "               (0, 64, 0), (128, 64, 0), (0, 192, 0), (128, 192, 0), (0, 64, 128)])\n",
        "\n",
        "  r = np.zeros_like(image).astype(np.uint8)\n",
        "  g = np.zeros_like(image).astype(np.uint8)\n",
        "  b = np.zeros_like(image).astype(np.uint8)\n",
        "  \n",
        "  for l in range(0, nc):\n",
        "    idx = image == l\n",
        "    r[idx] = label_colors[l, 0]\n",
        "    g[idx] = label_colors[l, 1]\n",
        "    b[idx] = label_colors[l, 2]\n",
        "    \n",
        "    \n",
        "  rgb = np.stack([r, g, b], axis=2)\n",
        "  \n",
        "  # Load the foreground input image \n",
        "  foreground = cv2.imread(source)\n",
        "\n",
        "  # Load the background input image \n",
        "  background = cv2.imread(bgimg)\n",
        "\n",
        "  # Change the color of foreground image to RGB \n",
        "  # and resize images to match shape of R-band in RGB output map\n",
        "  foreground = cv2.cvtColor(foreground, cv2.COLOR_BGR2RGB)\n",
        "  background = cv2.cvtColor(background, cv2.COLOR_BGR2RGB)\n",
        "  foreground = cv2.resize(foreground,(r.shape[1],r.shape[0]))\n",
        "  background = cv2.resize(background,(r.shape[1],r.shape[0]))\n",
        "  \n",
        "\n",
        "  # Convert uint8 to float\n",
        "  foreground = foreground.astype(float)\n",
        "  background = background.astype(float)\n",
        "\n",
        "  # Create a binary mask of the RGB output map using the threshold value 0\n",
        "  th, alpha = cv2.threshold(np.array(rgb),0,255, cv2.THRESH_BINARY)\n",
        "\n",
        "  # Apply a slight blur to the mask to soften edges\n",
        "  alpha = cv2.GaussianBlur(alpha, (7,7),0)\n",
        "\n",
        "  # Normalize the alpha mask to keep intensity between 0 and 1\n",
        "  alpha = alpha.astype(float)/255\n",
        "\n",
        "  # Multiply the foreground with the alpha matte\n",
        "  foreground = cv2.multiply(alpha, foreground)  \n",
        "  \n",
        "  # Multiply the background with ( 1 - alpha )\n",
        "  background = cv2.multiply(1.0 - alpha, background)  \n",
        "  \n",
        "  # Add the masked foreground and background\n",
        "  outImage = cv2.add(foreground, background)\n",
        "\n",
        "  # Return a normalized output image for display\n",
        "  return outImage/255\n",
        "\n",
        "def segment(net, path, bgimagepath, show_orig=True, dev='cuda'):\n",
        "  img = Image.open(path)\n",
        "  \n",
        "  if show_orig: plt.imshow(img); plt.axis('off'); plt.show()\n",
        "  # Comment the Resize and CenterCrop for better inference results\n",
        "  trf = T.Compose([T.Resize(400), \n",
        "                   #T.CenterCrop(224), \n",
        "                   T.ToTensor(), \n",
        "                   T.Normalize(mean = [0.485, 0.456, 0.406], \n",
        "                               std = [0.229, 0.224, 0.225])])\n",
        "  inp = trf(img).unsqueeze(0).to(dev)\n",
        "  out = net.to(dev)(inp)['out']\n",
        "  om = torch.argmax(out.squeeze(), dim=0).detach().cpu().numpy()\n",
        "  #cv2.imwrite(os.path.join(dst,\"frame_NIR_%06d.jpg\" % (i)),rgb)\n",
        "  \n",
        "  rgb = decode_segmap(om, path, bgimagepath)\n",
        "  #norm_image = cv2.normalize(rgb, None, alpha=0, beta=1, norm_type=cv2.NORM_MINMAX, dtype=cv2.CV_32F)\n",
        "  \n",
        "    \n",
        "  plt.imshow(rgb); plt.axis('off'); plt.show()\n",
        "  #plt.imsave(os.path.join(dst,\"frame_NIR_%06d.jpg\" % (i)),rgb)\n",
        "  #plt.imsave(f'/content/output/image_{n}.jpg', rgb)\n",
        "  \n",
        "\n",
        "  "
      ]
    },
    {
      "cell_type": "code",
      "execution_count": null,
      "metadata": {
        "colab": {
          "base_uri": "https://localhost:8080/",
          "height": 86,
          "referenced_widgets": [
            "31003476fce74e58b225f75b4cd9e2e6",
            "b24f5d66824548faa2f82909984abede",
            "e3503dfd5e33400abdb8793e4083d048",
            "69f2ba29f3574d0487aa8cb81312e37e",
            "775c869a65a3492daf3016887684761f",
            "1d4ec2a1de41476d8fb19006c91d5989",
            "f1d830513d9744128abaa7d0bad8c3e6",
            "32e43c0937344f49ab53e74f93d42cd4",
            "9a202715871b417698f8c55d4eac687e",
            "dc0a719a30ff456299d3767acc2ba7d9",
            "77230776b2e94591a5c51196a705f8f5"
          ]
        },
        "id": "9QiK6WYQH8wh",
        "outputId": "a05d72cd-2b56-4a96-a655-4a7a95f177d3"
      },
      "outputs": [
        {
          "name": "stderr",
          "output_type": "stream",
          "text": [
            "Downloading: \"https://download.pytorch.org/models/deeplabv3_resnet101_coco-586e9e4e.pth\" to /root/.cache/torch/hub/checkpoints/deeplabv3_resnet101_coco-586e9e4e.pth\n"
          ]
        },
        {
          "data": {
            "application/vnd.jupyter.widget-view+json": {
              "model_id": "31003476fce74e58b225f75b4cd9e2e6",
              "version_major": 2,
              "version_minor": 0
            },
            "text/plain": [
              "  0%|          | 0.00/233M [00:00<?, ?B/s]"
            ]
          },
          "metadata": {},
          "output_type": "display_data"
        }
      ],
      "source": [
        "dlab = models.segmentation.deeplabv3_resnet101(pretrained=1).eval()"
      ]
    },
    {
      "cell_type": "code",
      "execution_count": null,
      "metadata": {
        "colab": {
          "background_save": true
        },
        "id": "nC_-wKzPImQp"
      },
      "outputs": [],
      "source": [
        "import glob\n",
        "\n",
        "i=0\n",
        "for im, bg in zip(glob.glob(\"/content/drive/MyDrive/input_frames/*.jpg\"), glob.glob(\"/content/drive/MyDrive/bg_frames/*.jpg\")):\n",
        "  i=i+1\n",
        "  \n",
        "  img = Image.open(im)\n",
        "\n",
        "  # Comment the Resize and CenterCrop for better inference results\n",
        "  trf = T.Compose([T.Resize(400), \n",
        "                   #T.CenterCrop(224), \n",
        "                   T.ToTensor(), \n",
        "                   T.Normalize(mean = [0.485, 0.456, 0.406], \n",
        "                               std = [0.229, 0.224, 0.225])])\n",
        "  inp = trf(img).unsqueeze(0).to('cuda')\n",
        "  out = dlab.to('cuda')(inp)['out']\n",
        "  om = torch.argmax(out.squeeze(), dim=0).detach().cpu().numpy()\n",
        "  #cv2.imwrite(os.path.join(dst,\"frame_NIR_%06d.jpg\" % (i)),rgb)\n",
        "  \n",
        "  rgb = decode_segmap(om, im, bg)\n",
        "  #norm_image = cv2.normalize(rgb, None, alpha=0, beta=1, norm_type=cv2.NORM_MINMAX, dtype=cv2.CV_32F)\n",
        "\n",
        "  #plt.imsave(os.path.join(dst,\"frame_NIR_%06d.jpg\" % (i)),rgb)\n",
        "  plt.imsave(f'/content/drive/MyDrive/output_frames/_{i}.jpg', rgb)"
      ]
    },
    {
      "cell_type": "code",
      "execution_count": null,
      "metadata": {
        "id": "El8qL_ogKNHV"
      },
      "outputs": [],
      "source": [
        ""
      ]
    }
  ],
  "metadata": {
    "accelerator": "GPU",
    "colab": {
      "name": "BG_removal_p2.ipynb",
      "provenance": [],
      "authorship_tag": "ABX9TyO76dOtZ2xCI7v08DTNLdhE",
      "include_colab_link": true
    },
    "kernelspec": {
      "display_name": "Python 3",
      "name": "python3"
    },
    "language_info": {
      "name": "python"
    },
    "widgets": {
      "application/vnd.jupyter.widget-state+json": {
        "1d4ec2a1de41476d8fb19006c91d5989": {
          "model_module": "@jupyter-widgets/base",
          "model_module_version": "1.2.0",
          "model_name": "LayoutModel",
          "state": {
            "_model_module": "@jupyter-widgets/base",
            "_model_module_version": "1.2.0",
            "_model_name": "LayoutModel",
            "_view_count": null,
            "_view_module": "@jupyter-widgets/base",
            "_view_module_version": "1.2.0",
            "_view_name": "LayoutView",
            "align_content": null,
            "align_items": null,
            "align_self": null,
            "border": null,
            "bottom": null,
            "display": null,
            "flex": null,
            "flex_flow": null,
            "grid_area": null,
            "grid_auto_columns": null,
            "grid_auto_flow": null,
            "grid_auto_rows": null,
            "grid_column": null,
            "grid_gap": null,
            "grid_row": null,
            "grid_template_areas": null,
            "grid_template_columns": null,
            "grid_template_rows": null,
            "height": null,
            "justify_content": null,
            "justify_items": null,
            "left": null,
            "margin": null,
            "max_height": null,
            "max_width": null,
            "min_height": null,
            "min_width": null,
            "object_fit": null,
            "object_position": null,
            "order": null,
            "overflow": null,
            "overflow_x": null,
            "overflow_y": null,
            "padding": null,
            "right": null,
            "top": null,
            "visibility": null,
            "width": null
          }
        },
        "31003476fce74e58b225f75b4cd9e2e6": {
          "model_module": "@jupyter-widgets/controls",
          "model_module_version": "1.5.0",
          "model_name": "HBoxModel",
          "state": {
            "_dom_classes": [],
            "_model_module": "@jupyter-widgets/controls",
            "_model_module_version": "1.5.0",
            "_model_name": "HBoxModel",
            "_view_count": null,
            "_view_module": "@jupyter-widgets/controls",
            "_view_module_version": "1.5.0",
            "_view_name": "HBoxView",
            "box_style": "",
            "children": [
              "IPY_MODEL_b24f5d66824548faa2f82909984abede",
              "IPY_MODEL_e3503dfd5e33400abdb8793e4083d048",
              "IPY_MODEL_69f2ba29f3574d0487aa8cb81312e37e"
            ],
            "layout": "IPY_MODEL_775c869a65a3492daf3016887684761f"
          }
        },
        "32e43c0937344f49ab53e74f93d42cd4": {
          "model_module": "@jupyter-widgets/base",
          "model_module_version": "1.2.0",
          "model_name": "LayoutModel",
          "state": {
            "_model_module": "@jupyter-widgets/base",
            "_model_module_version": "1.2.0",
            "_model_name": "LayoutModel",
            "_view_count": null,
            "_view_module": "@jupyter-widgets/base",
            "_view_module_version": "1.2.0",
            "_view_name": "LayoutView",
            "align_content": null,
            "align_items": null,
            "align_self": null,
            "border": null,
            "bottom": null,
            "display": null,
            "flex": null,
            "flex_flow": null,
            "grid_area": null,
            "grid_auto_columns": null,
            "grid_auto_flow": null,
            "grid_auto_rows": null,
            "grid_column": null,
            "grid_gap": null,
            "grid_row": null,
            "grid_template_areas": null,
            "grid_template_columns": null,
            "grid_template_rows": null,
            "height": null,
            "justify_content": null,
            "justify_items": null,
            "left": null,
            "margin": null,
            "max_height": null,
            "max_width": null,
            "min_height": null,
            "min_width": null,
            "object_fit": null,
            "object_position": null,
            "order": null,
            "overflow": null,
            "overflow_x": null,
            "overflow_y": null,
            "padding": null,
            "right": null,
            "top": null,
            "visibility": null,
            "width": null
          }
        },
        "69f2ba29f3574d0487aa8cb81312e37e": {
          "model_module": "@jupyter-widgets/controls",
          "model_module_version": "1.5.0",
          "model_name": "HTMLModel",
          "state": {
            "_dom_classes": [],
            "_model_module": "@jupyter-widgets/controls",
            "_model_module_version": "1.5.0",
            "_model_name": "HTMLModel",
            "_view_count": null,
            "_view_module": "@jupyter-widgets/controls",
            "_view_module_version": "1.5.0",
            "_view_name": "HTMLView",
            "description": "",
            "description_tooltip": null,
            "layout": "IPY_MODEL_dc0a719a30ff456299d3767acc2ba7d9",
            "placeholder": "​",
            "style": "IPY_MODEL_77230776b2e94591a5c51196a705f8f5",
            "value": " 233M/233M [00:01&lt;00:00, 220MB/s]"
          }
        },
        "77230776b2e94591a5c51196a705f8f5": {
          "model_module": "@jupyter-widgets/controls",
          "model_module_version": "1.5.0",
          "model_name": "DescriptionStyleModel",
          "state": {
            "_model_module": "@jupyter-widgets/controls",
            "_model_module_version": "1.5.0",
            "_model_name": "DescriptionStyleModel",
            "_view_count": null,
            "_view_module": "@jupyter-widgets/base",
            "_view_module_version": "1.2.0",
            "_view_name": "StyleView",
            "description_width": ""
          }
        },
        "775c869a65a3492daf3016887684761f": {
          "model_module": "@jupyter-widgets/base",
          "model_module_version": "1.2.0",
          "model_name": "LayoutModel",
          "state": {
            "_model_module": "@jupyter-widgets/base",
            "_model_module_version": "1.2.0",
            "_model_name": "LayoutModel",
            "_view_count": null,
            "_view_module": "@jupyter-widgets/base",
            "_view_module_version": "1.2.0",
            "_view_name": "LayoutView",
            "align_content": null,
            "align_items": null,
            "align_self": null,
            "border": null,
            "bottom": null,
            "display": null,
            "flex": null,
            "flex_flow": null,
            "grid_area": null,
            "grid_auto_columns": null,
            "grid_auto_flow": null,
            "grid_auto_rows": null,
            "grid_column": null,
            "grid_gap": null,
            "grid_row": null,
            "grid_template_areas": null,
            "grid_template_columns": null,
            "grid_template_rows": null,
            "height": null,
            "justify_content": null,
            "justify_items": null,
            "left": null,
            "margin": null,
            "max_height": null,
            "max_width": null,
            "min_height": null,
            "min_width": null,
            "object_fit": null,
            "object_position": null,
            "order": null,
            "overflow": null,
            "overflow_x": null,
            "overflow_y": null,
            "padding": null,
            "right": null,
            "top": null,
            "visibility": null,
            "width": null
          }
        },
        "9a202715871b417698f8c55d4eac687e": {
          "model_module": "@jupyter-widgets/controls",
          "model_module_version": "1.5.0",
          "model_name": "ProgressStyleModel",
          "state": {
            "_model_module": "@jupyter-widgets/controls",
            "_model_module_version": "1.5.0",
            "_model_name": "ProgressStyleModel",
            "_view_count": null,
            "_view_module": "@jupyter-widgets/base",
            "_view_module_version": "1.2.0",
            "_view_name": "StyleView",
            "bar_color": null,
            "description_width": ""
          }
        },
        "b24f5d66824548faa2f82909984abede": {
          "model_module": "@jupyter-widgets/controls",
          "model_module_version": "1.5.0",
          "model_name": "HTMLModel",
          "state": {
            "_dom_classes": [],
            "_model_module": "@jupyter-widgets/controls",
            "_model_module_version": "1.5.0",
            "_model_name": "HTMLModel",
            "_view_count": null,
            "_view_module": "@jupyter-widgets/controls",
            "_view_module_version": "1.5.0",
            "_view_name": "HTMLView",
            "description": "",
            "description_tooltip": null,
            "layout": "IPY_MODEL_1d4ec2a1de41476d8fb19006c91d5989",
            "placeholder": "​",
            "style": "IPY_MODEL_f1d830513d9744128abaa7d0bad8c3e6",
            "value": "100%"
          }
        },
        "dc0a719a30ff456299d3767acc2ba7d9": {
          "model_module": "@jupyter-widgets/base",
          "model_module_version": "1.2.0",
          "model_name": "LayoutModel",
          "state": {
            "_model_module": "@jupyter-widgets/base",
            "_model_module_version": "1.2.0",
            "_model_name": "LayoutModel",
            "_view_count": null,
            "_view_module": "@jupyter-widgets/base",
            "_view_module_version": "1.2.0",
            "_view_name": "LayoutView",
            "align_content": null,
            "align_items": null,
            "align_self": null,
            "border": null,
            "bottom": null,
            "display": null,
            "flex": null,
            "flex_flow": null,
            "grid_area": null,
            "grid_auto_columns": null,
            "grid_auto_flow": null,
            "grid_auto_rows": null,
            "grid_column": null,
            "grid_gap": null,
            "grid_row": null,
            "grid_template_areas": null,
            "grid_template_columns": null,
            "grid_template_rows": null,
            "height": null,
            "justify_content": null,
            "justify_items": null,
            "left": null,
            "margin": null,
            "max_height": null,
            "max_width": null,
            "min_height": null,
            "min_width": null,
            "object_fit": null,
            "object_position": null,
            "order": null,
            "overflow": null,
            "overflow_x": null,
            "overflow_y": null,
            "padding": null,
            "right": null,
            "top": null,
            "visibility": null,
            "width": null
          }
        },
        "e3503dfd5e33400abdb8793e4083d048": {
          "model_module": "@jupyter-widgets/controls",
          "model_module_version": "1.5.0",
          "model_name": "FloatProgressModel",
          "state": {
            "_dom_classes": [],
            "_model_module": "@jupyter-widgets/controls",
            "_model_module_version": "1.5.0",
            "_model_name": "FloatProgressModel",
            "_view_count": null,
            "_view_module": "@jupyter-widgets/controls",
            "_view_module_version": "1.5.0",
            "_view_name": "ProgressView",
            "bar_style": "success",
            "description": "",
            "description_tooltip": null,
            "layout": "IPY_MODEL_32e43c0937344f49ab53e74f93d42cd4",
            "max": 244545539,
            "min": 0,
            "orientation": "horizontal",
            "style": "IPY_MODEL_9a202715871b417698f8c55d4eac687e",
            "value": 244545539
          }
        },
        "f1d830513d9744128abaa7d0bad8c3e6": {
          "model_module": "@jupyter-widgets/controls",
          "model_module_version": "1.5.0",
          "model_name": "DescriptionStyleModel",
          "state": {
            "_model_module": "@jupyter-widgets/controls",
            "_model_module_version": "1.5.0",
            "_model_name": "DescriptionStyleModel",
            "_view_count": null,
            "_view_module": "@jupyter-widgets/base",
            "_view_module_version": "1.2.0",
            "_view_name": "StyleView",
            "description_width": ""
          }
        }
      }
    }
  },
  "nbformat": 4,
  "nbformat_minor": 0
}